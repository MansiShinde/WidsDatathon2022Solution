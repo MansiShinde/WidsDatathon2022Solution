{
  "metadata": {
    "kernelspec": {
      "language": "python",
      "display_name": "Python 3",
      "name": "python3"
    },
    "language_info": {
      "pygments_lexer": "ipython3",
      "nbconvert_exporter": "python",
      "version": "3.6.4",
      "file_extension": ".py",
      "codemirror_mode": {
        "name": "ipython",
        "version": 3
      },
      "name": "python",
      "mimetype": "text/x-python"
    },
    "colab": {
      "name": "UsingCatBoostEnsembler.ipynb",
      "provenance": []
    }
  },
  "nbformat_minor": 0,
  "nbformat": 4,
  "cells": [
    {
      "cell_type": "markdown",
      "source": [
        "# **Using CatBoost ensembler model with dropping some features** \n",
        "\n",
        "referred [CatBoostBegineer](https://www.kaggle.com/ycca1018/wids-2022-catboost-beginner-jp-en-score-31-71/notebook) notebook "
      ],
      "metadata": {
        "id": "NMCj2LUxPyWA"
      }
    },
    {
      "cell_type": "code",
      "source": [
        "# importing all the libraries \n",
        "import os\n",
        "import gc\n",
        "import copy\n",
        "\n",
        "import numpy as np # linear algebra\n",
        "import pandas as pd # data processing, CSV file \n",
        "\n",
        "from sklearn.preprocessing import LabelEncoder \n",
        "from sklearn.preprocessing import OneHotEncoder\n",
        "from sklearn.model_selection import KFold, RepeatedKFold\n",
        "from sklearn.metrics import mean_squared_error \n",
        "import lightgbm as lgb \n",
        "\n",
        "import matplotlib.pyplot as plt\n",
        "plt.rcParams.update({'font.size':18})\n",
        "plt.style.use('ggplot')\n",
        "import seaborn as sns\n",
        "from scipy import stats\n",
        "\n",
        "import shap\n",
        "\n",
        "from sklearn.preprocessing import StandardScaler\n",
        "\n",
        "import optuna.integration.lightgbm as lgbm \n",
        "import optuna\n",
        "\n",
        "\n",
        "import warnings\n",
        "warnings.filterwarnings('ignore')\n",
        "\n",
        "import wandb\n"
      ],
      "metadata": {
        "execution": {
          "iopub.status.busy": "2022-02-21T17:46:12.853179Z",
          "iopub.execute_input": "2022-02-21T17:46:12.853495Z",
          "iopub.status.idle": "2022-02-21T17:46:17.730839Z",
          "shell.execute_reply.started": "2022-02-21T17:46:12.853414Z",
          "shell.execute_reply": "2022-02-21T17:46:17.730027Z"
        },
        "trusted": true,
        "id": "SYeoRhRfPyWD"
      },
      "execution_count": null,
      "outputs": []
    },
    {
      "cell_type": "code",
      "source": [
        "train = pd.read_csv(\"../input/d/mansi55/widsdataset/train.csv\")\n",
        "test = pd.read_csv(\"../input/d/mansi55/widsdataset/test.csv\")\n",
        "\n",
        "print(\"Number of train samples are\", train.shape)\n",
        "print(\"Number od test samples are\", test.shape)\n",
        "categorical_features = ['State_Factor', 'building_class','facility_type']\n",
        "numerical_features = train.select_dtypes('number').columns"
      ],
      "metadata": {
        "execution": {
          "iopub.status.busy": "2022-02-04T17:01:31.189309Z",
          "iopub.execute_input": "2022-02-04T17:01:31.190123Z",
          "iopub.status.idle": "2022-02-04T17:01:32.565383Z",
          "shell.execute_reply.started": "2022-02-04T17:01:31.190072Z",
          "shell.execute_reply": "2022-02-04T17:01:32.564221Z"
        },
        "trusted": true,
        "id": "1f61yKKTPyWF"
      },
      "execution_count": null,
      "outputs": []
    },
    {
      "cell_type": "code",
      "source": [
        "train.head()"
      ],
      "metadata": {
        "execution": {
          "iopub.status.busy": "2022-02-04T17:01:36.984159Z",
          "iopub.execute_input": "2022-02-04T17:01:36.984457Z",
          "iopub.status.idle": "2022-02-04T17:01:37.02095Z",
          "shell.execute_reply.started": "2022-02-04T17:01:36.984426Z",
          "shell.execute_reply": "2022-02-04T17:01:37.019792Z"
        },
        "trusted": true,
        "id": "JGy_co6pPyWG"
      },
      "execution_count": null,
      "outputs": []
    },
    {
      "cell_type": "code",
      "source": [],
      "metadata": {
        "trusted": true,
        "id": "pfjCX0bIPyWG"
      },
      "execution_count": null,
      "outputs": []
    },
    {
      "cell_type": "code",
      "source": [
        "train.shape"
      ],
      "metadata": {
        "execution": {
          "iopub.status.busy": "2022-02-04T17:01:57.142979Z",
          "iopub.execute_input": "2022-02-04T17:01:57.143309Z",
          "iopub.status.idle": "2022-02-04T17:01:57.150392Z",
          "shell.execute_reply.started": "2022-02-04T17:01:57.143271Z",
          "shell.execute_reply": "2022-02-04T17:01:57.149596Z"
        },
        "trusted": true,
        "id": "cN6GFm3yPyWG"
      },
      "execution_count": null,
      "outputs": []
    },
    {
      "cell_type": "markdown",
      "source": [
        " **Check which all columns have missing values**"
      ],
      "metadata": {
        "id": "_PgY7NpLPyWH"
      }
    },
    {
      "cell_type": "code",
      "source": [
        "plt.figure(figsize = (25, 11))\n",
        "sns.heatmap(train.isna().values, cmap = ['#ffd514','#ff355d'], xticklabels=train.columns)\n",
        "plt.title(\"Missing values in training data\", size=20)"
      ],
      "metadata": {
        "execution": {
          "iopub.status.busy": "2022-01-24T11:39:39.182145Z",
          "iopub.execute_input": "2022-01-24T11:39:39.182434Z",
          "iopub.status.idle": "2022-01-24T11:39:47.679776Z",
          "shell.execute_reply.started": "2022-01-24T11:39:39.182404Z",
          "shell.execute_reply": "2022-01-24T11:39:47.679104Z"
        },
        "trusted": true,
        "id": "bktt9waZPyWI"
      },
      "execution_count": null,
      "outputs": []
    },
    {
      "cell_type": "code",
      "source": [
        "missing_columns = [col for col in train.columns if train[col].isnull().any()]\n",
        "missingvalues_count = train.isna().sum()\n",
        "missingvalues_df = pd.DataFrame(missingvalues_count.rename(\"Null Values Count\")).loc[missingvalues_count.ne(0)]\n",
        "missingvalues_df.style"
      ],
      "metadata": {
        "execution": {
          "iopub.status.busy": "2022-01-24T11:40:46.449198Z",
          "iopub.execute_input": "2022-01-24T11:40:46.449507Z",
          "iopub.status.idle": "2022-01-24T11:40:46.600683Z",
          "shell.execute_reply.started": "2022-01-24T11:40:46.449472Z",
          "shell.execute_reply": "2022-01-24T11:40:46.59928Z"
        },
        "trusted": true,
        "id": "VDm3Qo3WPyWI"
      },
      "execution_count": null,
      "outputs": []
    },
    {
      "cell_type": "code",
      "source": [
        "#basic stats of features \n",
        "train.describe().style"
      ],
      "metadata": {
        "execution": {
          "iopub.status.busy": "2022-01-24T11:40:53.554842Z",
          "iopub.execute_input": "2022-01-24T11:40:53.55514Z",
          "iopub.status.idle": "2022-01-24T11:40:53.783924Z",
          "shell.execute_reply.started": "2022-01-24T11:40:53.555107Z",
          "shell.execute_reply": "2022-01-24T11:40:53.7831Z"
        },
        "trusted": true,
        "id": "TA7Xnw9-PyWJ"
      },
      "execution_count": null,
      "outputs": []
    },
    {
      "cell_type": "markdown",
      "source": [
        "**Find out how traget variable is distributed inorder to find outliers and all**"
      ],
      "metadata": {
        "id": "gXTxrb7WPyWJ"
      }
    },
    {
      "cell_type": "code",
      "source": [
        "plt.figure(figsize = (15,7))\n",
        "plt.subplot(121)\n",
        "sns.kdeplot(train.site_eui, color=\"#ffd514\")\n",
        "plt.subplot(122)\n",
        "sns.boxplot(train.site_eui, color=\"#ff355d\")"
      ],
      "metadata": {
        "execution": {
          "iopub.status.busy": "2022-01-24T11:42:00.325841Z",
          "iopub.execute_input": "2022-01-24T11:42:00.326179Z",
          "iopub.status.idle": "2022-01-24T11:42:00.96569Z",
          "shell.execute_reply.started": "2022-01-24T11:42:00.326145Z",
          "shell.execute_reply": "2022-01-24T11:42:00.964788Z"
        },
        "trusted": true,
        "id": "UdX5ZWW6PyWJ"
      },
      "execution_count": null,
      "outputs": []
    },
    {
      "cell_type": "code",
      "source": [
        "res = stats.probplot(train['site_eui'], plot=plt) #probability plot"
      ],
      "metadata": {
        "execution": {
          "iopub.status.busy": "2022-01-24T11:42:07.747968Z",
          "iopub.execute_input": "2022-01-24T11:42:07.748271Z",
          "iopub.status.idle": "2022-01-24T11:42:08.212149Z",
          "shell.execute_reply.started": "2022-01-24T11:42:07.74824Z",
          "shell.execute_reply": "2022-01-24T11:42:08.211137Z"
        },
        "trusted": true,
        "id": "gcAdcOz-PyWK"
      },
      "execution_count": null,
      "outputs": []
    },
    {
      "cell_type": "markdown",
      "source": [
        "**Find out how numeric and categorical features are distributed**"
      ],
      "metadata": {
        "id": "TQWWBvqDPyWK"
      }
    },
    {
      "cell_type": "code",
      "source": [
        "def kdeplot_features(df_train, df_test, feature, title):\n",
        "    '''Takes a column from the dataframe and plots the distribution (after count).'''\n",
        "    \n",
        "    values_train = df_train[feature].to_numpy()\n",
        "    values_test = df_test[feature].to_numpy()\n",
        "    \n",
        "    plt.figure(figsize = (18,3))\n",
        "    \n",
        "    sns.kdeplot(values_train, color = '#ffd514')\n",
        "    sns.kdeplot(values_test, color = '#ff355d')\n",
        "    \n",
        "    plt.title(title, fontsize=15)\n",
        "    plt.legend()\n",
        "    plt.show();\n",
        "    \n",
        "    del values_train, values_test\n",
        "    gc.collect()\n",
        "\n",
        "################################\n",
        "\n",
        "def countplot_features(df_train, feature, title):\n",
        "    '''Takes a column from the dataframe and plots the distribution (after count).'''\n",
        "    \n",
        "    plt.figure(figsize = (10, 5))\n",
        "    \n",
        "    sns.countplot(df_train[feature], color = \"#ff355d\")\n",
        "    plt.title(title, fontsize=15)\n",
        "    plt.show()\n",
        "    \n",
        "###################################\n",
        "\n",
        "def create_wandb_hist(x_data=None, x_name=None, title=None, log=None):\n",
        "    '''Create and save histogram in W&B Environment.\n",
        "    x_data: Pandas Series containing x values\n",
        "    x_name: strings containing axis name\n",
        "    title: title of the graph\n",
        "    log: string containing name of log'''\n",
        "    \n",
        "    data = [[x] for x in x_data]\n",
        "    table = wandb.Table(data=data, columns=[x_name])\n",
        "    wandb.log({log : wandb.plot.histogram(table, x_name, title=title)})\n",
        "    "
      ],
      "metadata": {
        "execution": {
          "iopub.status.busy": "2022-02-02T03:58:10.788955Z",
          "iopub.execute_input": "2022-02-02T03:58:10.789316Z",
          "iopub.status.idle": "2022-02-02T03:58:10.799705Z",
          "shell.execute_reply.started": "2022-02-02T03:58:10.789283Z",
          "shell.execute_reply": "2022-02-02T03:58:10.798885Z"
        },
        "trusted": true,
        "id": "UxwWwHFTPyWK"
      },
      "execution_count": null,
      "outputs": []
    },
    {
      "cell_type": "code",
      "source": [
        "# plot distributions of numerical features\n",
        "\n",
        "for feature in numerical_features:\n",
        "    if feature != \"site_eui\":\n",
        "        kdeplot_features(train, test, feature=feature, title = feature+\" distribution\")"
      ],
      "metadata": {
        "execution": {
          "iopub.status.busy": "2022-01-23T12:48:17.758587Z",
          "iopub.execute_input": "2022-01-23T12:48:17.758896Z",
          "iopub.status.idle": "2022-01-23T12:49:01.094029Z",
          "shell.execute_reply.started": "2022-01-23T12:48:17.75886Z",
          "shell.execute_reply": "2022-01-23T12:49:01.093107Z"
        },
        "trusted": true,
        "id": "i0As7tYFPyWL"
      },
      "execution_count": null,
      "outputs": []
    },
    {
      "cell_type": "code",
      "source": [
        "# plot distributions of categorical features \n",
        "\n",
        "for feature in categorical_features:\n",
        "    print(train.State_Factor.unique())\n",
        "    fig = countplot_features(train, feature=feature, title = \"Frequency of \"+feature)"
      ],
      "metadata": {
        "execution": {
          "iopub.status.busy": "2022-01-24T11:43:24.894818Z",
          "iopub.execute_input": "2022-01-24T11:43:24.895674Z",
          "iopub.status.idle": "2022-01-24T11:43:26.812588Z",
          "shell.execute_reply.started": "2022-01-24T11:43:24.895629Z",
          "shell.execute_reply": "2022-01-24T11:43:26.811338Z"
        },
        "trusted": true,
        "id": "7IeX3EH1PyWL"
      },
      "execution_count": null,
      "outputs": []
    },
    {
      "cell_type": "markdown",
      "source": [
        "**Handling nan/missing values in categorical features using Label encoding**"
      ],
      "metadata": {
        "id": "iu6T-WPKPyWL"
      }
    },
    {
      "cell_type": "code",
      "source": [
        "str_list = [] \n",
        "num_list = []\n",
        "for colname, colvalue in train.iteritems():\n",
        "    if type(colvalue[1]) == str:\n",
        "        str_list.append(colname)\n",
        "    else:\n",
        "        num_list.append(colname)\n",
        "        \n",
        "for col in str_list:\n",
        "    encoder = LabelEncoder()\n",
        "    encoder.fit(train[col])\n",
        "    train[col] = encoder.transform(train[col])\n",
        "\n",
        "    for label in np.unique(test[col]):\n",
        "        if label not in encoder.classes_: \n",
        "            encoder.classes_ = np.append(encoder.classes_, label) \n",
        "    test[col] = encoder.transform(test[col])"
      ],
      "metadata": {
        "execution": {
          "iopub.status.busy": "2022-02-04T17:02:42.352137Z",
          "iopub.execute_input": "2022-02-04T17:02:42.352413Z",
          "iopub.status.idle": "2022-02-04T17:02:42.470829Z",
          "shell.execute_reply.started": "2022-02-04T17:02:42.352384Z",
          "shell.execute_reply": "2022-02-04T17:02:42.469956Z"
        },
        "trusted": true,
        "id": "Wdq2DUFMPyWM"
      },
      "execution_count": null,
      "outputs": []
    },
    {
      "cell_type": "code",
      "source": [
        "train"
      ],
      "metadata": {
        "execution": {
          "iopub.status.busy": "2022-02-04T17:03:05.599074Z",
          "iopub.execute_input": "2022-02-04T17:03:05.599392Z",
          "iopub.status.idle": "2022-02-04T17:03:05.648689Z",
          "shell.execute_reply.started": "2022-02-04T17:03:05.599357Z",
          "shell.execute_reply": "2022-02-04T17:03:05.647715Z"
        },
        "trusted": true,
        "id": "Qg29BuIKPyWM"
      },
      "execution_count": null,
      "outputs": []
    },
    {
      "cell_type": "markdown",
      "source": [
        "**dropping those columns whose values are 0 in test data** "
      ],
      "metadata": {
        "id": "fsvR0IesPyWM"
      }
    },
    {
      "cell_type": "code",
      "source": [
        "test.isnull().sum()"
      ],
      "metadata": {
        "execution": {
          "iopub.status.busy": "2022-02-04T17:03:29.674733Z",
          "iopub.execute_input": "2022-02-04T17:03:29.675007Z",
          "iopub.status.idle": "2022-02-04T17:03:29.688416Z",
          "shell.execute_reply.started": "2022-02-04T17:03:29.674979Z",
          "shell.execute_reply": "2022-02-04T17:03:29.687193Z"
        },
        "trusted": true,
        "id": "ftMDekUKPyWM"
      },
      "execution_count": null,
      "outputs": []
    },
    {
      "cell_type": "code",
      "source": [
        "train.drop(['direction_max_wind_speed','direction_peak_wind_speed','max_wind_speed','days_with_fog'],axis=1,inplace=True)\n",
        "test.drop(['direction_max_wind_speed','direction_peak_wind_speed','max_wind_speed','days_with_fog'],axis=1,inplace=True)"
      ],
      "metadata": {
        "execution": {
          "iopub.status.busy": "2022-02-04T17:03:43.75682Z",
          "iopub.execute_input": "2022-02-04T17:03:43.75803Z",
          "iopub.status.idle": "2022-02-04T17:03:43.810211Z",
          "shell.execute_reply.started": "2022-02-04T17:03:43.757969Z",
          "shell.execute_reply": "2022-02-04T17:03:43.808958Z"
        },
        "trusted": true,
        "id": "IYSiaOdgPyWM"
      },
      "execution_count": null,
      "outputs": []
    },
    {
      "cell_type": "code",
      "source": [
        "temp_list=[i for i in train.columns if 'temp' in i if i!='avg_temp']\n",
        "temp_list_2=[i for i in temp_list if ('january' not in i)&('july' not in i)]"
      ],
      "metadata": {
        "execution": {
          "iopub.status.busy": "2022-02-04T17:03:48.242414Z",
          "iopub.execute_input": "2022-02-04T17:03:48.242788Z",
          "iopub.status.idle": "2022-02-04T17:03:48.249385Z",
          "shell.execute_reply.started": "2022-02-04T17:03:48.242749Z",
          "shell.execute_reply": "2022-02-04T17:03:48.248288Z"
        },
        "trusted": true,
        "id": "xRtfiYCCPyWN"
      },
      "execution_count": null,
      "outputs": []
    },
    {
      "cell_type": "code",
      "source": [
        "temp_list_2"
      ],
      "metadata": {
        "execution": {
          "iopub.status.busy": "2022-02-04T17:06:03.732563Z",
          "iopub.execute_input": "2022-02-04T17:06:03.733526Z",
          "iopub.status.idle": "2022-02-04T17:06:03.740349Z",
          "shell.execute_reply.started": "2022-02-04T17:06:03.733455Z",
          "shell.execute_reply": "2022-02-04T17:06:03.739578Z"
        },
        "trusted": true,
        "id": "ztsJk5Q9PyWN"
      },
      "execution_count": null,
      "outputs": []
    },
    {
      "cell_type": "code",
      "source": [
        "train.drop(temp_list_2,axis=1,inplace=True)\n",
        "test.drop(temp_list_2,axis=1,inplace=True)"
      ],
      "metadata": {
        "execution": {
          "iopub.status.busy": "2022-02-04T17:03:55.680255Z",
          "iopub.execute_input": "2022-02-04T17:03:55.682743Z",
          "iopub.status.idle": "2022-02-04T17:03:55.69545Z",
          "shell.execute_reply.started": "2022-02-04T17:03:55.682694Z",
          "shell.execute_reply": "2022-02-04T17:03:55.694764Z"
        },
        "trusted": true,
        "id": "EL-lL7BzPyWN"
      },
      "execution_count": null,
      "outputs": []
    },
    {
      "cell_type": "code",
      "source": [
        "train"
      ],
      "metadata": {
        "execution": {
          "iopub.status.busy": "2022-02-04T17:04:29.219527Z",
          "iopub.execute_input": "2022-02-04T17:04:29.219808Z",
          "iopub.status.idle": "2022-02-04T17:04:29.257492Z",
          "shell.execute_reply.started": "2022-02-04T17:04:29.219777Z",
          "shell.execute_reply": "2022-02-04T17:04:29.256524Z"
        },
        "trusted": true,
        "id": "6_zN2eTuPyWN"
      },
      "execution_count": null,
      "outputs": []
    },
    {
      "cell_type": "markdown",
      "source": [
        "**Drop site_eui and id columns** "
      ],
      "metadata": {
        "id": "HlLpbexrPyWN"
      }
    },
    {
      "cell_type": "code",
      "source": [
        "X = train.drop([\"site_eui\",\"id\"],axis =1)\n",
        "y = train[\"site_eui\"]"
      ],
      "metadata": {
        "execution": {
          "iopub.status.busy": "2022-02-04T17:04:24.55189Z",
          "iopub.execute_input": "2022-02-04T17:04:24.552255Z",
          "iopub.status.idle": "2022-02-04T17:04:24.562262Z",
          "shell.execute_reply.started": "2022-02-04T17:04:24.552208Z",
          "shell.execute_reply": "2022-02-04T17:04:24.561543Z"
        },
        "trusted": true,
        "id": "iI4keP4hPyWN"
      },
      "execution_count": null,
      "outputs": []
    },
    {
      "cell_type": "code",
      "source": [
        "# from sklearn.model_selection import train_test_split\n",
        "# X_train, X_test, y_train, y_test = train_test_split(X, y, test_size = 0.25, random_state = 5)"
      ],
      "metadata": {
        "execution": {
          "iopub.status.busy": "2022-02-19T15:18:23.292761Z",
          "iopub.execute_input": "2022-02-19T15:18:23.29351Z",
          "iopub.status.idle": "2022-02-19T15:18:24.528292Z",
          "shell.execute_reply.started": "2022-02-19T15:18:23.293399Z",
          "shell.execute_reply": "2022-02-19T15:18:24.526975Z"
        },
        "trusted": true,
        "id": "P4UlHQwHPyWN"
      },
      "execution_count": null,
      "outputs": []
    },
    {
      "cell_type": "markdown",
      "source": [
        "**Using CatBoost Regressor**"
      ],
      "metadata": {
        "id": "GuCKfZZnPyWN"
      }
    },
    {
      "cell_type": "code",
      "source": [
        "import catboost as cb\n",
        "\n",
        "\n",
        "MODEL_MAX_DEPTH = 12\n",
        "MODEL_TASK_TYPE = 'GPU'#'GPU'\n",
        "MODEL_RL = 0.025\n",
        "MODEL_EVAL_METRIC ='RMSE'\n",
        "MODEL_LOSS_FUNCTION = 'RMSE'\n",
        "MODEL_ESR = 10\n",
        "MODEL_VERBOSE = 1000\n",
        "MODEL_ITERATIONS = 28000\n",
        "\n",
        "SEED = 2022\n",
        "\n",
        "catBoostmodel = cb.CatBoostRegressor(\n",
        "    verbose=MODEL_VERBOSE,\n",
        "    early_stopping_rounds=MODEL_ESR,\n",
        "    random_seed=SEED,\n",
        "    max_depth=MODEL_MAX_DEPTH,\n",
        "    task_type=MODEL_TASK_TYPE,\n",
        "    learning_rate=MODEL_RL,\n",
        "    iterations=MODEL_ITERATIONS,\n",
        "    loss_function=MODEL_LOSS_FUNCTION,\n",
        "    eval_metric= MODEL_EVAL_METRIC\n",
        ")\n"
      ],
      "metadata": {
        "execution": {
          "iopub.status.busy": "2022-02-01T17:13:20.985297Z",
          "iopub.execute_input": "2022-02-01T17:13:20.985631Z",
          "iopub.status.idle": "2022-02-01T17:13:21.179578Z",
          "shell.execute_reply.started": "2022-02-01T17:13:20.985599Z",
          "shell.execute_reply": "2022-02-01T17:13:21.178601Z"
        },
        "trusted": true,
        "id": "Z7LVd3dAPyWN"
      },
      "execution_count": null,
      "outputs": []
    },
    {
      "cell_type": "code",
      "source": [
        "catBoostmodel.fit(X, y)"
      ],
      "metadata": {
        "id": "De2R2JOXPyWO"
      },
      "execution_count": null,
      "outputs": []
    },
    {
      "cell_type": "code",
      "source": [
        "# train_dataset = cb.Pool(X_train, y_train) "
      ],
      "metadata": {
        "id": "wm5xDyOSPyWO"
      },
      "execution_count": null,
      "outputs": []
    },
    {
      "cell_type": "code",
      "source": [
        "# grid = {'iterations': [10000, 28000],\n",
        "#         'learning_rate': [0.03, 0.1,0.025],\n",
        "#         'depth': [2, 4, 6, 8,12],\n",
        "#         'l2_leaf_reg': [0.2, 0.5, 1, 3]}\n",
        "# catBoostmodel.grid_search(grid, train_dataset)"
      ],
      "metadata": {
        "id": "6-bZvssbPyWO"
      },
      "execution_count": null,
      "outputs": []
    },
    {
      "cell_type": "code",
      "source": [
        "# from sklearn.metrics import r2_score\n",
        "\n",
        "# pred = catBoostmodel.predict(X_test)\n",
        "# rmse = (np.sqrt(mean_squared_error(y_test, pred)))\n",
        "# r2 = r2_score(y_test, pred)"
      ],
      "metadata": {
        "id": "4DeoUpFsPyWO"
      },
      "execution_count": null,
      "outputs": []
    },
    {
      "cell_type": "code",
      "source": [
        "# print(\"Testing performance\")\n",
        "# print('RMSE: {:.2f}'.format(rmse))\n",
        "# print('R2: {:.2f}'.format(r2))"
      ],
      "metadata": {
        "id": "nkFarU_jPyWO"
      },
      "execution_count": null,
      "outputs": []
    },
    {
      "cell_type": "code",
      "source": [
        "# catBoostmodel.fit(X_train, y_train)"
      ],
      "metadata": {
        "execution": {
          "iopub.status.busy": "2022-02-01T17:13:31.297368Z",
          "iopub.execute_input": "2022-02-01T17:13:31.297645Z",
          "iopub.status.idle": "2022-02-01T17:13:31.448144Z",
          "shell.execute_reply.started": "2022-02-01T17:13:31.297613Z",
          "shell.execute_reply": "2022-02-01T17:13:31.446951Z"
        },
        "trusted": true,
        "id": "BApXTXNdPyWO"
      },
      "execution_count": null,
      "outputs": []
    },
    {
      "cell_type": "code",
      "source": [
        "# from sklearn.model_selection import cross_val_score\n",
        "# accuracies = cross_val_score(estimator = catBoostmodel, X = X_train, y = y_train, cv = 5)\n",
        "# print(\"Accuracy:{:.2f} %\".format(accuracies.mean()*100))"
      ],
      "metadata": {
        "id": "nmLVyQbGPyWO"
      },
      "execution_count": null,
      "outputs": []
    },
    {
      "cell_type": "code",
      "source": [
        "#submission\n",
        "X_test = test.drop([\"id\"],axis=1)\n",
        "pred_test = catBoostmodel.predict(X_test)\n",
        "sub = pd.DataFrame(test['id'],columns={'id'})\n",
        "sub[\"site_eui\"] = pred_test\n",
        "sub.to_csv('submission.csv', index=False)\n",
        "sub.head()"
      ],
      "metadata": {
        "id": "gHzd-33HPyWO"
      },
      "execution_count": null,
      "outputs": []
    },
    {
      "cell_type": "code",
      "source": [],
      "metadata": {
        "id": "EWmLPzUCPyWO"
      },
      "execution_count": null,
      "outputs": []
    },
    {
      "cell_type": "markdown",
      "source": [],
      "metadata": {
        "id": "jhQwWw1iPyWO"
      }
    }
  ]
}